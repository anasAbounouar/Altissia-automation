{
 "cells": [
  {
   "cell_type": "code",
   "execution_count": null,
   "id": "3bd0b44d",
   "metadata": {},
   "outputs": [],
   "source": [
    "!pip install webdriver_manager"
   ]
  },
  {
   "cell_type": "code",
   "execution_count": null,
   "id": "81cbf840",
   "metadata": {},
   "outputs": [],
   "source": [
    "bitch   from this https://developer.microsoft.com/en-us/microsoft-edge/tools/webdriver/ install the appropriate one (stable edge, x64)"
   ]
  },
  {
   "cell_type": "code",
   "execution_count": 37,
   "id": "e34e16e3",
   "metadata": {},
   "outputs": [],
   "source": [
    "\n",
    "\n",
    "from selenium import webdriver\n",
    "from selenium.webdriver.edge.options import Options\n",
    "from selenium.webdriver.edge.service import Service\n",
    "from webdriver_manager.microsoft import EdgeChromiumDriverManager\n",
    "import time \n",
    "from selenium.webdriver.common.by import By\n"
   ]
  },
  {
   "cell_type": "code",
   "execution_count": null,
   "id": "6b10dfb1",
   "metadata": {},
   "outputs": [],
   "source": [
    "\n",
    "\n",
    "# Specify your Edge profile path!!!! \n",
    "##you should modify this \n",
    "\n",
    "edge_profile_path = r'C:\\Users\\DELL\\AppData\\Local\\Microsoft\\Edge\\User Data\\Default'\n",
    "\n",
    "\n",
    "# Set up Edge options\n",
    "options = Options()\n",
    "options.add_argument(f'user-data-dir={edge_profile_path}')\n",
    "\n",
    "# Set up Edge with Selenium\n",
    "driver = webdriver.Edge(service=Service(EdgeChromiumDriverManager().install()), options=options)\n",
    "\n",
    "\n",
    "\n"
   ]
  },
  {
   "cell_type": "code",
   "execution_count": 39,
   "id": "2ade6bf6",
   "metadata": {},
   "outputs": [
    {
     "name": "stdout",
     "output_type": "stream",
     "text": [
      "https://learn.altissia.org/platform/#/learning-path/mission/VISITER_UN_MUSEE/lesson/FR_FR_B2_VOCABULARY_VISITER_UN_MUSEE_LE_LOUVRE/activity/FR_FR_B2_VOCABULARY_VISITER_UN_MUSEE_LE_LOUVRE_VIDEO/video we are here\n"
     ]
    }
   ],
   "source": [
    "# make more urls that u need !!!!\n",
    "urls = [\n",
    "    \"https://learn.altissia.org/platform/#/learning-path/mission/SUGGERER_DES_MANIERES_DE_GERER_LE_STRESS/lesson/FR_FR_B1_OTHER_COMMENT_FAITES_VOUS_FACE_AU_STRESS/activity/FR_FR_B1_OTHER_COMMENT_FAITES_VOUS_FACE_AU_STRESS_VIDEO_VIDEO_COMMENT_FAITES_VOUS_FACE_AU_STRESS/video\",\n",
    "    \"https://learn.altissia.org/platform/#/learning-path/mission/VISITER_UN_MUSEE/lesson/FR_FR_B2_VOCABULARY_VISITER_UN_MUSEE_LE_LOUVRE/activity/FR_FR_B2_VOCABULARY_VISITER_UN_MUSEE_LE_LOUVRE_VIDEO/video\"\n",
    "]\n",
    "# Open the first URL in the current tab\n",
    "driver.get(urls[0])\n",
    "\n",
    "# Open remaining URLs in new tabs\n",
    "for url in urls[1:]:\n",
    "    print(url, \"we are here\")\n",
    "    time.sleep(2)  # Small delay to allow the tab to open\n",
    "    driver.execute_script(f\"window.open('{url}');\")\n",
    "\n",
    "# Function to find and click the play button\n",
    "def click_play_button():\n",
    "    try:\n",
    "        # Locate the play button and click it\n",
    "        play_button = driver.find_element(By.CSS_SELECTOR, \"button.plyr__control--overlaid[data-plyr='play']\")\n",
    "        play_button.click()\n",
    "    except Exception as e:\n",
    "        print(f\"Error occurred: {e}\")\n",
    "\n",
    "# Iterate through all tabs\n",
    "for tab_index in range(len(urls)):\n",
    "    try:\n",
    "        driver.switch_to.window(driver.window_handles[tab_index])\n",
    "        click_play_button()\n",
    "        ##modify this to time.sleep(200) aka 3 minutes , and remove time.sleep(5) it is just for testing purposes\n",
    "        time.sleep(5)\n",
    "    except Exception as e:\n",
    "        print(f\"Error occurred while switching tabs: {e}\")"
   ]
  },
  {
   "cell_type": "code",
   "execution_count": null,
   "id": "5793354f",
   "metadata": {},
   "outputs": [],
   "source": []
  },
  {
   "cell_type": "code",
   "execution_count": null,
   "id": "2a1f9364",
   "metadata": {},
   "outputs": [],
   "source": []
  }
 ],
 "metadata": {
  "kernelspec": {
   "display_name": "Python 3 (ipykernel)",
   "language": "python",
   "name": "python3"
  },
  "language_info": {
   "codemirror_mode": {
    "name": "ipython",
    "version": 3
   },
   "file_extension": ".py",
   "mimetype": "text/x-python",
   "name": "python",
   "nbconvert_exporter": "python",
   "pygments_lexer": "ipython3",
   "version": "3.9.13"
  }
 },
 "nbformat": 4,
 "nbformat_minor": 5
}
